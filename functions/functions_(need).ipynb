{
 "cells": [
  {
   "cell_type": "markdown",
   "id": "123456",
   "metadata": {},
   "source": [
    "<div style=\"text-align:left;font-size:2em\"><span style=\"font-weight:bolder;font-size:1.25em\">SP2273 | Learning Portfolio</span><br><br><span style=\"font-weight:bold;color:darkred\">Functions (Need)</span></div>"
   ]
  },
  {
   "cell_type": "markdown",
   "id": "fb0b9987",
   "metadata": {},
   "source": [
    "## 1 User defined functions"
   ]
  },
  {
   "cell_type": "markdown",
   "id": "422671f3",
   "metadata": {},
   "source": [
    "### 1.1 Named functions that return"
   ]
  },
  {
   "cell_type": "code",
   "execution_count": 12,
   "id": "88d467cc",
   "metadata": {},
   "outputs": [
    {
     "data": {
      "text/plain": [
       "'Hello Super Man!'"
      ]
     },
     "execution_count": 12,
     "metadata": {},
     "output_type": "execute_result"
    }
   ],
   "source": [
    "def greeting(name):\n",
    "    if name == 'Batman':\n",
    "        return 'Hello Batman! So, nice to meet you!'\n",
    "    else:\n",
    "        return f'Hello {name}!'\n",
    "    \n",
    "greeting(\"Super Man\")"
   ]
  },
  {
   "cell_type": "code",
   "execution_count": 10,
   "id": "c38a79ae",
   "metadata": {},
   "outputs": [
    {
     "name": "stdout",
     "output_type": "stream",
     "text": [
      "Hello Super Man!\n"
     ]
    }
   ],
   "source": [
    "greet=greeting(name='Super Man')\n",
    "print(greet)"
   ]
  },
  {
   "cell_type": "code",
   "execution_count": 19,
   "id": "16a6c578",
   "metadata": {},
   "outputs": [
    {
     "name": "stdout",
     "output_type": "stream",
     "text": [
      "1\n",
      "5\n",
      "3.0\n"
     ]
    }
   ],
   "source": [
    "def summary_stats(numbers):\n",
    "    np_stats=np.array(numbers)\n",
    "    return np_stats.min(), np_stats.max(), np_stats.mean()\n",
    "list_min, list_max, list_mean = summary_stats([1, 2, 3, 4, 5])\n",
    "print(list_min)\n",
    "print(list_max)\n",
    "print(list_mean)"
   ]
  },
  {
   "cell_type": "markdown",
   "id": "4699a5c5",
   "metadata": {},
   "source": [
    "### 1.2 Named functions that don’t return"
   ]
  },
  {
   "cell_type": "code",
   "execution_count": null,
   "id": "a6f285f5",
   "metadata": {},
   "outputs": [],
   "source": [
    "\n",
    "# Your code here\n"
   ]
  },
  {
   "cell_type": "markdown",
   "id": "0e7f39cd",
   "metadata": {},
   "source": [
    "### 1.3 Anonymous functions"
   ]
  },
  {
   "cell_type": "code",
   "execution_count": 23,
   "id": "280a834c",
   "metadata": {},
   "outputs": [
    {
     "data": {
      "text/plain": [
       "'Hello Super Man!'"
      ]
     },
     "execution_count": 23,
     "metadata": {},
     "output_type": "execute_result"
    }
   ],
   "source": [
    "my_short_function = lambda name: f\"Hello {name}!\"\n",
    "my_short_function(\"Super Man\")"
   ]
  },
  {
   "cell_type": "code",
   "execution_count": 26,
   "id": "fb0c85fa",
   "metadata": {},
   "outputs": [
    {
     "data": {
      "text/plain": [
       "[[9, 0, 10],\n",
       " [8, 1, 11],\n",
       " [7, 2, 12],\n",
       " [6, 3, 13],\n",
       " [5, 4, 14],\n",
       " [4, 5, 15],\n",
       " [3, 6, 16],\n",
       " [2, 7, 17],\n",
       " [1, 8, 18],\n",
       " [0, 9, 19]]"
      ]
     },
     "execution_count": 26,
     "metadata": {},
     "output_type": "execute_result"
    }
   ],
   "source": [
    "numbers=[[9, 0, 10],\n",
    "         [8, 1, 11],\n",
    "         [7, 2, 12],\n",
    "         [6, 3, 13],\n",
    "         [5, 4, 14],\n",
    "         [4, 5, 15],\n",
    "         [3, 6, 16],\n",
    "         [2, 7, 17],\n",
    "         [1, 8, 18],\n",
    "         [0, 9, 19]]\n",
    "\n",
    "sorted(numbers) #Sorts by the 1st element\n",
    "sorted(numbers, key=lambda x: x[1]) #sort by custom key\n",
    "sorted(numbers, key=lambda x: sum(x))"
   ]
  },
  {
   "cell_type": "markdown",
   "id": "31fde5ad",
   "metadata": {},
   "source": [
    "### 1.4 Optional arguments"
   ]
  },
  {
   "cell_type": "code",
   "execution_count": 35,
   "id": "02b86ff9",
   "metadata": {},
   "outputs": [
    {
     "data": {
      "text/plain": [
       "'Hello no one!'"
      ]
     },
     "execution_count": 35,
     "metadata": {},
     "output_type": "execute_result"
    }
   ],
   "source": [
    "def greeting(name='no one'):\n",
    "    if name == 'Batman':\n",
    "        return 'Hello Batman! So, nice to meet you!'\n",
    "    else:\n",
    "        return f'Hello {name}!'\n",
    "greeting()"
   ]
  },
  {
   "cell_type": "code",
   "execution_count": 36,
   "id": "8470ebbc",
   "metadata": {},
   "outputs": [],
   "source": [
    "?print"
   ]
  },
  {
   "cell_type": "code",
   "execution_count": 37,
   "id": "023477a3",
   "metadata": {},
   "outputs": [
    {
     "name": "stdout",
     "output_type": "stream",
     "text": [
      "I am Batman!\n",
      "I---am---Batman!\n"
     ]
    }
   ],
   "source": [
    "print('I', 'am', 'Batman!')          \n",
    "#> I am Batman!\n",
    "print('I', 'am', 'Batman!', sep='---')  \n",
    "#> I---am---Batman!"
   ]
  },
  {
   "cell_type": "markdown",
   "id": "dd6d44b4",
   "metadata": {},
   "source": [
    "## 2 The importance of functions?"
   ]
  },
  {
   "cell_type": "markdown",
   "id": "41b69a5b",
   "metadata": {},
   "source": [
    "### 2.1 An argument for functions"
   ]
  },
  {
   "cell_type": "code",
   "execution_count": null,
   "id": "ab2d97d9",
   "metadata": {},
   "outputs": [],
   "source": [
    "\n",
    "# Your code here\n"
   ]
  },
  {
   "cell_type": "markdown",
   "id": "b30b7960",
   "metadata": {},
   "source": [
    "### 2.2 A word of caution"
   ]
  },
  {
   "cell_type": "code",
   "execution_count": null,
   "id": "55854faf",
   "metadata": {},
   "outputs": [],
   "source": [
    "\n",
    "# Your code here\n"
   ]
  },
  {
   "cell_type": "markdown",
   "id": "8cdf070f",
   "metadata": {},
   "source": [
    "## Exercise 1 :  Do you know why?"
   ]
  },
  {
   "cell_type": "code",
   "execution_count": 41,
   "id": "4d2c5118",
   "metadata": {},
   "outputs": [],
   "source": [
    "def greeting(name):\n",
    "    if name == 'Batman':\n",
    "        return 'Hello Batman! So, nice to meet you!'\n",
    "    return f'Hello {name}!'"
   ]
  },
  {
   "cell_type": "markdown",
   "id": "8bd1f9b6",
   "metadata": {},
   "source": [
    "Because of the return code, once this phrase is read the code jumps out of the entire function to give us our value. Hence, if batman is not read, the code continues."
   ]
  },
  {
   "cell_type": "markdown",
   "id": "e5cc2405",
   "metadata": {},
   "source": [
    "## Exercise 2 :  Calculator functions"
   ]
  },
  {
   "cell_type": "code",
   "execution_count": 74,
   "id": "1423f2eb",
   "metadata": {},
   "outputs": [
    {
     "data": {
      "text/plain": [
       "'You cant divide by 0'"
      ]
     },
     "execution_count": 74,
     "metadata": {},
     "output_type": "execute_result"
    }
   ],
   "source": [
    "x=np.array([36, 34, 44, 76, 27])\n",
    "y=np.array([64, 66, 56, 24, 73])\n",
    "\n",
    "def add(x, y):\n",
    "    return x+y\n",
    "def subtract(x, y):\n",
    "    return x-y\n",
    "def multiply(x, y):\n",
    "    return x*y\n",
    "def divide(x,y):\n",
    "    if np.any(y == 0):\n",
    "        return \"You cant divide by 0\"\n",
    "    return x/y\n",
    "divide(36, 0)"
   ]
  },
  {
   "cell_type": "markdown",
   "id": "d7ac32cb",
   "metadata": {},
   "source": [
    "## Exercise 3 :  max_info() with NumPy"
   ]
  },
  {
   "cell_type": "code",
   "execution_count": 68,
   "id": "b0d2d2fb",
   "metadata": {},
   "outputs": [
    {
     "name": "stdout",
     "output_type": "stream",
     "text": [
      "2\n"
     ]
    }
   ],
   "source": [
    "numbers = [40, 27, 83, 44, 74, 51, 76, 77, 10, 49]\n",
    "def max_info(numbers):\n",
    "    np_numbers = np.array(numbers)\n",
    "    return np_numbers.max(), np_numbers.argmax()\n",
    "list_max, list_argmax = max_info([40, 27, 83, 44, 74, 51, 76, 77, 10, 49])\n",
    "print(list_argmax)"
   ]
  }
 ],
 "metadata": {
  "kernelspec": {
   "display_name": "Python 3 (ipykernel)",
   "language": "python",
   "name": "python3"
  },
  "language_info": {
   "codemirror_mode": {
    "name": "ipython",
    "version": 3
   },
   "file_extension": ".py",
   "mimetype": "text/x-python",
   "name": "python",
   "nbconvert_exporter": "python",
   "pygments_lexer": "ipython3",
   "version": "3.10.8"
  },
  "toc": {
   "base_numbering": 1,
   "nav_menu": {},
   "number_sections": true,
   "sideBar": true,
   "skip_h1_title": false,
   "title_cell": "Table of Contents",
   "title_sidebar": "Contents",
   "toc_cell": false,
   "toc_position": {},
   "toc_section_display": true,
   "toc_window_display": false
  },
  "varInspector": {
   "cols": {
    "lenName": 16,
    "lenType": 16,
    "lenVar": 40
   },
   "kernels_config": {
    "python": {
     "delete_cmd_postfix": "",
     "delete_cmd_prefix": "del ",
     "library": "var_list.py",
     "varRefreshCmd": "print(var_dic_list())"
    },
    "r": {
     "delete_cmd_postfix": ") ",
     "delete_cmd_prefix": "rm(",
     "library": "var_list.r",
     "varRefreshCmd": "cat(var_dic_list()) "
    }
   },
   "types_to_exclude": [
    "module",
    "function",
    "builtin_function_or_method",
    "instance",
    "_Feature"
   ],
   "window_display": false
  },
  "vscode": {
   "interpreter": {
    "hash": "31f2aee4e71d21fbe5cf8b01ff0e069b9275f58929596ceb00d14d90e3e16cd6"
   }
  }
 },
 "nbformat": 4,
 "nbformat_minor": 5
}
