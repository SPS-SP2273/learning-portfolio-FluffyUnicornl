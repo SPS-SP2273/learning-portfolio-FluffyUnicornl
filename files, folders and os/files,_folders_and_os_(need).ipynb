{
 "cells": [
  {
   "cell_type": "markdown",
   "id": "123456",
   "metadata": {},
   "source": [
    "<div style=\"text-align:left;font-size:2em\"><span style=\"font-weight:bolder;font-size:1.25em\">SP2273 | Learning Portfolio</span><br><br><span style=\"font-weight:bold;color:darkred\">Files, Folders and OS (Need)</span></div>"
   ]
  },
  {
   "cell_type": "markdown",
   "id": "b26d973d",
   "metadata": {},
   "source": [
    "## 1 Important concepts"
   ]
  },
  {
   "cell_type": "markdown",
   "id": "549d05b0",
   "metadata": {},
   "source": [
    "### 1.1 Path"
   ]
  },
  {
   "cell_type": "code",
   "execution_count": 1,
   "id": "4837be59",
   "metadata": {},
   "outputs": [],
   "source": [
    "# To specify location on my computer"
   ]
  },
  {
   "cell_type": "markdown",
   "id": "2f69a7ac",
   "metadata": {},
   "source": [
    "### 1.2 More about relative paths"
   ]
  },
  {
   "cell_type": "code",
   "execution_count": 2,
   "id": "7acb1d88",
   "metadata": {},
   "outputs": [],
   "source": [
    "# single period is the current folder (.)\n",
    "# double period means one folder up (..)"
   ]
  },
  {
   "cell_type": "markdown",
   "id": "5f7d3003",
   "metadata": {},
   "source": [
    "### 1.3 Path separator"
   ]
  },
  {
   "cell_type": "code",
   "execution_count": 3,
   "id": "72d9e389",
   "metadata": {},
   "outputs": [],
   "source": [
    "\n",
    "# Your code here\n"
   ]
  },
  {
   "cell_type": "markdown",
   "id": "9edbee60",
   "metadata": {},
   "source": [
    "### Text files vs Binary files"
   ]
  },
  {
   "cell_type": "code",
   "execution_count": 4,
   "id": "f45e40f0",
   "metadata": {},
   "outputs": [],
   "source": [
    "\n",
    "# Your code here\n"
   ]
  },
  {
   "cell_type": "markdown",
   "id": "ea31bb08",
   "metadata": {},
   "source": [
    "### Extentions"
   ]
  },
  {
   "cell_type": "code",
   "execution_count": 5,
   "id": "a0921b6a",
   "metadata": {},
   "outputs": [],
   "source": [
    "\n",
    "# Your code here\n"
   ]
  },
  {
   "cell_type": "markdown",
   "id": "b858b85a",
   "metadata": {},
   "source": [
    "### 1.4 Opening and closing files"
   ]
  },
  {
   "cell_type": "code",
   "execution_count": 6,
   "id": "43c19d09",
   "metadata": {},
   "outputs": [
    {
     "name": "stdout",
     "output_type": "stream",
     "text": [
      "\n"
     ]
    }
   ],
   "source": [
    "with open('spectrum-01.txt', 'r') as file:\n",
    "    file_content=file.read()\n",
    "print(file_content)"
   ]
  },
  {
   "cell_type": "code",
   "execution_count": 7,
   "id": "59c2c0fe",
   "metadata": {},
   "outputs": [],
   "source": [
    "# text = 'Far out in the uncharted backwaters of the unfashionable end of the western spiral arm of the Galaxy lies a small unregarded yellow sun.\\nOrbiting this at a distance of roughly ninety-two million miles is an utterly insignificant little blue green planet whose ape-descended life forms are so amazingly primitive that they still think digital watches are a pretty neat idea.'\n",
    "# with open('my-text-ince.txt', 'w') as file:\n",
    "#     file.write(text)"
   ]
  },
  {
   "cell_type": "markdown",
   "id": "850fd4fd",
   "metadata": {},
   "source": [
    "## 2 Playing with the OS"
   ]
  },
  {
   "cell_type": "markdown",
   "id": "c9654a55",
   "metadata": {},
   "source": [
    "### 2.1 Some packages"
   ]
  },
  {
   "cell_type": "code",
   "execution_count": 14,
   "id": "04c108ea",
   "metadata": {},
   "outputs": [],
   "source": [
    "import os\n",
    "import glob\n",
    "import shutil"
   ]
  },
  {
   "cell_type": "markdown",
   "id": "70225266",
   "metadata": {},
   "source": [
    "### 2.2 OS safe paths"
   ]
  },
  {
   "cell_type": "code",
   "execution_count": 9,
   "id": "adf089c8",
   "metadata": {},
   "outputs": [],
   "source": [
    "# path = os.path.join('.', 'all-data', 'sg-data', 'data-01.txt')\n",
    "# print(path)"
   ]
  },
  {
   "cell_type": "markdown",
   "id": "e8599db1",
   "metadata": {},
   "source": [
    "### 2.3 Creating folders"
   ]
  },
  {
   "cell_type": "code",
   "execution_count": 10,
   "id": "3a3a49ea",
   "metadata": {},
   "outputs": [],
   "source": [
    "# os.mkdir('people')\n",
    "# for person in ['John', 'Paul', 'Ringo']:\n",
    "#     path = os.path.join('people', person)\n",
    "#     print(f'Creating {path}')\n",
    "#     os.mkdir(path)"
   ]
  },
  {
   "cell_type": "markdown",
   "id": "3524b2ec",
   "metadata": {},
   "source": [
    "### 2.4 Checking for existence"
   ]
  },
  {
   "cell_type": "code",
   "execution_count": 11,
   "id": "6e0dc0d7",
   "metadata": {},
   "outputs": [],
   "source": [
    "# for person in ['John', 'Paul', 'Ringo']:\n",
    "#     path = os.path.join('people', person)\n",
    "#     try:\n",
    "#         os.mkdir(path)\n",
    "#         print(f'Creating {path}')\n",
    "#     except FileExistsError:\n",
    "#         print(f'{path} already exists; skipping creation.')"
   ]
  },
  {
   "cell_type": "code",
   "execution_count": 12,
   "id": "f59827cf",
   "metadata": {},
   "outputs": [],
   "source": [
    "# for person in ['John', 'Paul', 'Ringo']:\n",
    "#     path = os.path.join('people', person)\n",
    "#     if os.path.exists(path):\n",
    "#         print(f'{path} already exists; skipping creations.')\n",
    "#     else:\n",
    "#         os.mkdir(path)\n",
    "#         print(f'Creating {path}')"
   ]
  },
  {
   "cell_type": "markdown",
   "id": "e2228a3e",
   "metadata": {},
   "source": [
    "### 2.5 Copying files"
   ]
  },
  {
   "cell_type": "code",
   "execution_count": 13,
   "id": "b5ccb239",
   "metadata": {},
   "outputs": [],
   "source": [
    "# for person in ['John', 'Paul', 'Ringo']:\n",
    "#     path_to_destination = os.path.join('people', person)\n",
    "#     shutil.copy('sp2273_logo.png', path_to_destination)\n",
    "#     print(f'Copied file to {path_to_destination}')"
   ]
  },
  {
   "cell_type": "code",
   "execution_count": 14,
   "id": "b5601c4e",
   "metadata": {},
   "outputs": [],
   "source": [
    "# for person in ['John', 'Paul', 'Ringo']:\n",
    "#     #create folder called imgs\n",
    "#     path_to_imgs = os.path.join('people', person, 'imgs')\n",
    "#     if not os.path.exists(path_to_imgs):\n",
    "#         os.mkdir(path_to_imgs)\n",
    "#     #Move logo file\n",
    "#     current_path_of_logo = os.path.join('people', person, 'sp2273_logo.png')\n",
    "#     new_path_of_logo = os.path.join('people',person,'imgs','sp2273_logo.png')\n",
    "    \n",
    "#     shutil.move(current_path_of_logo, new_path_of_logo)\n",
    "#     print(f'Moved logo to {new_path_of_logo}')"
   ]
  },
  {
   "cell_type": "code",
   "execution_count": null,
   "id": "79dcb3ee",
   "metadata": {},
   "outputs": [],
   "source": []
  },
  {
   "cell_type": "markdown",
   "id": "f106a851",
   "metadata": {},
   "source": [
    "### 2.6 Listing files"
   ]
  },
  {
   "cell_type": "code",
   "execution_count": 15,
   "id": "0d150952",
   "metadata": {},
   "outputs": [],
   "source": [
    "# glob.glob('*') #listing all the filies in the current directory"
   ]
  },
  {
   "cell_type": "code",
   "execution_count": 16,
   "id": "39fb5f78",
   "metadata": {},
   "outputs": [],
   "source": [
    "# glob.glob('peo*')"
   ]
  },
  {
   "cell_type": "code",
   "execution_count": 17,
   "id": "4f1dc6b4",
   "metadata": {},
   "outputs": [],
   "source": [
    "# glob.glob('peo*/*') #What is inside the people's folder"
   ]
  },
  {
   "cell_type": "markdown",
   "id": "c1f46472",
   "metadata": {},
   "source": [
    "### 2.7 Moving about"
   ]
  },
  {
   "cell_type": "code",
   "execution_count": 18,
   "id": "cb802e42",
   "metadata": {},
   "outputs": [],
   "source": [
    "# os.getcwd()"
   ]
  },
  {
   "cell_type": "code",
   "execution_count": 19,
   "id": "4d3ddca6",
   "metadata": {},
   "outputs": [],
   "source": [
    "# os.chdir('people/Ringo')"
   ]
  },
  {
   "cell_type": "code",
   "execution_count": 20,
   "id": "951e27f8",
   "metadata": {},
   "outputs": [],
   "source": [
    "# os.getcwd()"
   ]
  },
  {
   "cell_type": "markdown",
   "id": "19076f00",
   "metadata": {},
   "source": [
    "### 2.8 Extracting Info"
   ]
  },
  {
   "cell_type": "code",
   "execution_count": 21,
   "id": "b095ce4c",
   "metadata": {},
   "outputs": [],
   "source": [
    "# path = 'people\\Ringo\\imgs\\sp2273_logo.png'\n",
    "# filename = path.split(os.path.sep)[-1]\n",
    "# extension = filename.split('.')[-1]\n",
    "# # print(filename, extension)\n"
   ]
  },
  {
   "cell_type": "code",
   "execution_count": 22,
   "id": "dfdb8bec",
   "metadata": {
    "scrolled": true
   },
   "outputs": [],
   "source": [
    "# os.path.split(path)"
   ]
  },
  {
   "cell_type": "code",
   "execution_count": 23,
   "id": "096ff97c",
   "metadata": {},
   "outputs": [],
   "source": [
    "# os.path.splitext(path)"
   ]
  },
  {
   "cell_type": "code",
   "execution_count": 24,
   "id": "60f5c858",
   "metadata": {},
   "outputs": [],
   "source": [
    "# os.path.dirname(path)"
   ]
  },
  {
   "cell_type": "markdown",
   "id": "701f48b6",
   "metadata": {},
   "source": [
    "### 2.9 Deleting stuff"
   ]
  },
  {
   "cell_type": "code",
   "execution_count": 25,
   "id": "0bb61465",
   "metadata": {},
   "outputs": [],
   "source": [
    "# os.remove('imgs\\sp2273_logo.png')"
   ]
  },
  {
   "cell_type": "code",
   "execution_count": 26,
   "id": "9356fe4a",
   "metadata": {},
   "outputs": [],
   "source": [
    "# os.getcwd()"
   ]
  },
  {
   "cell_type": "code",
   "execution_count": 27,
   "id": "c2650f47",
   "metadata": {},
   "outputs": [],
   "source": [
    "# os.rmdir('people/Ringo')"
   ]
  },
  {
   "cell_type": "code",
   "execution_count": 28,
   "id": "b469d542",
   "metadata": {},
   "outputs": [],
   "source": [
    "# shutil.rmtree('people/Ringo')"
   ]
  },
  {
   "cell_type": "markdown",
   "id": "5352a97e",
   "metadata": {},
   "source": [
    "## Exercise 1 :  The OS is my oyster"
   ]
  },
  {
   "cell_type": "code",
   "execution_count": 29,
   "id": "bddd84e4",
   "metadata": {},
   "outputs": [
    {
     "data": {
      "text/plain": [
       "'C:\\\\Users\\\\Koi\\\\OneDrive - Nanyang Technological University\\\\Desktop\\\\2273 Learning Portfolio\\\\learning-portfolio-FluffyUnicornl\\\\files, folders and os'"
      ]
     },
     "execution_count": 29,
     "metadata": {},
     "output_type": "execute_result"
    }
   ],
   "source": [
    "os.getcwd()"
   ]
  },
  {
   "cell_type": "markdown",
   "id": "d770aceb",
   "metadata": {},
   "source": [
    "Use os.mkdir() (along with for) to create 50 new directories named in the format new_directory_01, new_directory_02,…"
   ]
  },
  {
   "cell_type": "code",
   "execution_count": 30,
   "id": "22bea399",
   "metadata": {},
   "outputs": [],
   "source": [
    "# os.chdir('..')"
   ]
  },
  {
   "cell_type": "code",
   "execution_count": 31,
   "id": "cfb9072d",
   "metadata": {},
   "outputs": [],
   "source": [
    "# os.mkdir('python_today')"
   ]
  },
  {
   "cell_type": "code",
   "execution_count": 32,
   "id": "97e8b3b7",
   "metadata": {},
   "outputs": [],
   "source": [
    "# os.chdir('python_today')"
   ]
  },
  {
   "cell_type": "code",
   "execution_count": 33,
   "id": "a121bd63",
   "metadata": {},
   "outputs": [
    {
     "data": {
      "text/plain": [
       "'C:\\\\Users\\\\Koi\\\\OneDrive - Nanyang Technological University\\\\Desktop\\\\2273 Learning Portfolio\\\\learning-portfolio-FluffyUnicornl\\\\files, folders and os'"
      ]
     },
     "execution_count": 33,
     "metadata": {},
     "output_type": "execute_result"
    }
   ],
   "source": [
    "os.getcwd()"
   ]
  },
  {
   "cell_type": "code",
   "execution_count": 34,
   "id": "f8efaf30",
   "metadata": {},
   "outputs": [],
   "source": [
    "# for directory in range(0,51):\n",
    "#     os.mkdir(f'new_directory_{directory:02}')\n",
    "    "
   ]
  },
  {
   "cell_type": "code",
   "execution_count": 35,
   "id": "47c93141",
   "metadata": {},
   "outputs": [],
   "source": [
    "# for i in range(1,51,2):\n",
    "#     os.rmdir(f'new_directory_{i:02}')"
   ]
  },
  {
   "cell_type": "code",
   "execution_count": 43,
   "id": "35811669",
   "metadata": {},
   "outputs": [],
   "source": [
    "# os.chdir('python_today')"
   ]
  },
  {
   "cell_type": "code",
   "execution_count": 46,
   "id": "848ca218",
   "metadata": {},
   "outputs": [
    {
     "data": {
      "text/plain": [
       "'C:\\\\Users\\\\Koi\\\\OneDrive - Nanyang Technological University\\\\Desktop\\\\2273 Learning Portfolio\\\\learning-portfolio-FluffyUnicornl\\\\files, folders and os\\\\python_today'"
      ]
     },
     "execution_count": 46,
     "metadata": {},
     "output_type": "execute_result"
    }
   ],
   "source": [
    "# os.getcwd()"
   ]
  },
  {
   "cell_type": "code",
   "execution_count": 57,
   "id": "f818e8e3",
   "metadata": {},
   "outputs": [],
   "source": [
    "# for i in range(0,51,5):\n",
    "#     if os.path.exists(f'new_directory_{i:02}'):\n",
    "#         os.rename(f'new_directory_{i:02}', f'haha_{i:02}')"
   ]
  },
  {
   "cell_type": "code",
   "execution_count": 56,
   "id": "dedbd710",
   "metadata": {},
   "outputs": [],
   "source": [
    "# Fixng my mistake when i used 1-51 instead of 0-51\n",
    "# for i in range(1,51,5):\n",
    "#     if os.path.exists(f'haha_{i:02}'):\n",
    "#         os.rename(f'haha_{i:02}', f'new_directory_{i:02}')"
   ]
  },
  {
   "cell_type": "code",
   "execution_count": 62,
   "id": "ec6ca9f0",
   "metadata": {},
   "outputs": [
    {
     "data": {
      "text/plain": [
       "'C:\\\\Users\\\\Koi\\\\OneDrive - Nanyang Technological University\\\\Desktop\\\\2273 Learning Portfolio\\\\learning-portfolio-FluffyUnicornl\\\\files, folders and os\\\\python_today'"
      ]
     },
     "execution_count": 62,
     "metadata": {},
     "output_type": "execute_result"
    }
   ],
   "source": [
    "# os.getcwd()"
   ]
  },
  {
   "cell_type": "code",
   "execution_count": 66,
   "id": "d1aa0b73",
   "metadata": {},
   "outputs": [
    {
     "data": {
      "text/plain": [
       "['haha_00', 'haha_10', 'haha_20', 'haha_30', 'haha_40', 'haha_50']"
      ]
     },
     "execution_count": 66,
     "metadata": {},
     "output_type": "execute_result"
    }
   ],
   "source": [
    "# glob.glob('haha*')"
   ]
  },
  {
   "cell_type": "code",
   "execution_count": 104,
   "id": "13efb5fd",
   "metadata": {},
   "outputs": [
    {
     "data": {
      "text/plain": [
       "'C:\\\\Users\\\\Koi\\\\OneDrive - Nanyang Technological University\\\\Desktop\\\\2273 Learning Portfolio\\\\learning-portfolio-FluffyUnicornl'"
      ]
     },
     "execution_count": 104,
     "metadata": {},
     "output_type": "execute_result"
    }
   ],
   "source": [
    "# os.getcwd()"
   ]
  },
  {
   "cell_type": "code",
   "execution_count": 107,
   "id": "39f78812",
   "metadata": {},
   "outputs": [
    {
     "data": {
      "text/plain": [
       "True"
      ]
     },
     "execution_count": 107,
     "metadata": {},
     "output_type": "execute_result"
    }
   ],
   "source": [
    "# path_to_imgs = os.path.join('files, folders and os', 'python_today', 'haha_10' , 'imgs')\n",
    "# #path_to_imgs = os.path.join('files, folders and os', 'python_today', 'haha_05' , 'imgs')\n",
    "# os.path.exists(path_to_imgs)"
   ]
  },
  {
   "cell_type": "code",
   "execution_count": 111,
   "id": "fe8893a5",
   "metadata": {},
   "outputs": [
    {
     "data": {
      "text/plain": [
       "[]"
      ]
     },
     "execution_count": 111,
     "metadata": {},
     "output_type": "execute_result"
    }
   ],
   "source": []
  },
  {
   "cell_type": "code",
   "execution_count": 115,
   "id": "809dd153",
   "metadata": {},
   "outputs": [
    {
     "name": "stdout",
     "output_type": "stream",
     "text": [
      "This file exists\n",
      "files, folders and os\\python_today\\haha_00\\imgs\\sp2273_logo.png\n",
      "This file exists\n",
      "files, folders and os\\python_today\\haha_10\\imgs\\sp2273_logo.png\n",
      "This file exists\n",
      "files, folders and os\\python_today\\haha_20\\imgs\\sp2273_logo.png\n",
      "This file exists\n",
      "files, folders and os\\python_today\\haha_30\\imgs\\sp2273_logo.png\n",
      "This file exists\n",
      "files, folders and os\\python_today\\haha_40\\imgs\\sp2273_logo.png\n",
      "This file exists\n",
      "files, folders and os\\python_today\\haha_50\\imgs\\sp2273_logo.png\n"
     ]
    }
   ],
   "source": [
    "# for i in glob.glob(os.path.join('files, folders and os', 'python_today', 'haha*')):\n",
    "    \n",
    "#     path_to_imgs = os.path.join(i , 'imgs')\n",
    "#     if not os.path.exists(path_to_imgs):\n",
    "#         os.mkdir(path_to_imgs)\n",
    "#     else:\n",
    "#         print('This file exists')\n",
    "\n",
    "#     current_path_of_logo = os.path.join('files, folders and os','sp2273_logo.png')\n",
    "#     new_path_of_logo = os.path.join(i ,'imgs','sp2273_logo.png')\n",
    "#     print(new_path_of_logo)\n",
    "#     shutil.copy(current_path_of_logo, new_path_of_logo)"
   ]
  },
  {
   "cell_type": "code",
   "execution_count": 113,
   "id": "3057471a",
   "metadata": {},
   "outputs": [
    {
     "data": {
      "text/plain": [
       "'C:\\\\Users\\\\Koi\\\\OneDrive - Nanyang Technological University\\\\Desktop\\\\2273 Learning Portfolio\\\\learning-portfolio-FluffyUnicornl'"
      ]
     },
     "execution_count": 113,
     "metadata": {},
     "output_type": "execute_result"
    }
   ],
   "source": [
    "os.getcwd()"
   ]
  },
  {
   "cell_type": "code",
   "execution_count": null,
   "id": "2e912b67",
   "metadata": {},
   "outputs": [],
   "source": [
    "\"C:\\Users\\Koi\\OneDrive - Nanyang Technological University\\Desktop\\2273 Learning Portfolio\\learning-portfolio-FluffyUnicornl\\files, folders and os\\sp2273_logo.png\""
   ]
  },
  {
   "cell_type": "markdown",
   "id": "64b58f16",
   "metadata": {},
   "source": [
    "## Exercise 8 :  Tidying a collaboration"
   ]
  },
  {
   "cell_type": "code",
   "execution_count": 1,
   "id": "77f993eb",
   "metadata": {},
   "outputs": [],
   "source": [
    "old_name = 'oct-08_singapore.txt'"
   ]
  },
  {
   "cell_type": "code",
   "execution_count": 9,
   "id": "5c8cc7ec",
   "metadata": {},
   "outputs": [],
   "source": [
    "file_list = ['oct-08_singapore.txt', 'jul-10_cairo.txt', 'may-15_dhaka.txt',\n",
    " 'may-13_cairo.txt', 'oct-21_cairo.txt', 'jan-10_singapore.txt',\n",
    " 'jun-20_tokyo.txt', 'aug-06_jakarta.txt', 'dec-21_karachi.txt',\n",
    " 'jan-01_tokyo.txt']"
   ]
  },
  {
   "cell_type": "code",
   "execution_count": 16,
   "id": "25849e63",
   "metadata": {},
   "outputs": [],
   "source": [
    "os.getcwd()\n",
    "os.chdir('os-collaboration-exercise-data')"
   ]
  },
  {
   "cell_type": "code",
   "execution_count": 17,
   "id": "35a8c782",
   "metadata": {},
   "outputs": [
    {
     "data": {
      "text/plain": [
       "'C:\\\\Users\\\\Koi\\\\OneDrive - Nanyang Technological University\\\\Desktop\\\\2273 Learning Portfolio\\\\learning-portfolio-FluffyUnicornl\\\\files, folders and os\\\\os-collaboration-exercise-data'"
      ]
     },
     "execution_count": 17,
     "metadata": {},
     "output_type": "execute_result"
    }
   ],
   "source": [
    "os.getcwd()"
   ]
  },
  {
   "cell_type": "code",
   "execution_count": 18,
   "id": "b5b1167b",
   "metadata": {},
   "outputs": [],
   "source": [
    "# month = {\n",
    "# 'jan': '01', 'feb': '02', 'mar': '03',\n",
    "# 'apr': '04', 'may': '05', 'jun': '06',\n",
    "# 'jul': '07', 'aug': '08', 'sep': '09',\n",
    "# 'oct': '10', 'nov': '11', 'dec': '12'\n",
    "# }\n",
    "# for old_name in glob.glob('*.txt'):\n",
    "#     old_month = old_name[:3]\n",
    "#     new_month = month[old_month]\n",
    "#     new_name = old_name.replace(old_month, new_month)\n",
    "#     new_name_2 = new_name.replace('_', '-')\n",
    "#     os.rename(old_name, new_name_2)"
   ]
  },
  {
   "cell_type": "code",
   "execution_count": 39,
   "id": "d3f18c9e",
   "metadata": {},
   "outputs": [
    {
     "data": {
      "text/plain": [
       "'10-08-singapore.txt'"
      ]
     },
     "execution_count": 39,
     "metadata": {},
     "output_type": "execute_result"
    }
   ],
   "source": [
    "def rename_my_file(old_name):\n",
    "    old_month = old_name[:3]\n",
    "    new_month = month[old_month]\n",
    "    new_name = old_name.replace(old_month, new_month)\n",
    "    new_name_2 = new_name.replace('_', '-')\n",
    "    return new_name_2\n",
    "rename_my_file('oct-08_singapore.txt')"
   ]
  },
  {
   "cell_type": "code",
   "execution_count": 46,
   "id": "6e803e22",
   "metadata": {
    "scrolled": true
   },
   "outputs": [
    {
     "name": "stdout",
     "output_type": "stream",
     "text": [
      "oct-08_singapore.txt ---> 10-08-singapore.txt\n",
      "jul-10_cairo.txt ---> 07-10-cairo.txt\n",
      "may-15_dhaka.txt ---> 05-15-dhaka.txt\n",
      "may-13_cairo.txt ---> 05-13-cairo.txt\n",
      "oct-21_cairo.txt ---> 10-21-cairo.txt\n",
      "jan-10_singapore.txt ---> 01-10-singapore.txt\n",
      "jun-20_tokyo.txt ---> 06-20-tokyo.txt\n",
      "aug-06_jakarta.txt ---> 08-06-jakarta.txt\n",
      "dec-21_karachi.txt ---> 12-21-karachi.txt\n",
      "jan-01_tokyo.txt ---> 01-01-tokyo.txt\n"
     ]
    }
   ],
   "source": [
    "file_list = ['oct-08_singapore.txt', 'jul-10_cairo.txt', 'may-15_dhaka.txt',\n",
    " 'may-13_cairo.txt', 'oct-21_cairo.txt', 'jan-10_singapore.txt',\n",
    " 'jun-20_tokyo.txt', 'aug-06_jakarta.txt', 'dec-21_karachi.txt',\n",
    " 'jan-01_tokyo.txt']\n",
    "\n",
    "for old_name in file_list:\n",
    "    rename_my_file(old_name)\n",
    "    print(f'{old_name} ---> {rename_my_file(old_name)}')"
   ]
  },
  {
   "cell_type": "code",
   "execution_count": 48,
   "id": "c7627775",
   "metadata": {},
   "outputs": [],
   "source": [
    "# for old_name in glob.glob('*.pdf'):\n",
    "#     os.rename(old_name, rename_my_file(old_name))"
   ]
  },
  {
   "cell_type": "code",
   "execution_count": 50,
   "id": "e6f54721",
   "metadata": {},
   "outputs": [],
   "source": [
    "#country_list = ['Cairo', 'Dhaka', 'Jakarta', 'Karachi', 'Manila',\n",
    "#  'Melbourne', 'Osaka', 'Shanghai', 'Singapore', 'Tokyo']\n",
    "# for country in country_list:\n",
    "#     os.mkdir(country)"
   ]
  },
  {
   "cell_type": "code",
   "execution_count": 51,
   "id": "9a84177c",
   "metadata": {},
   "outputs": [
    {
     "data": {
      "text/plain": [
       "'C:\\\\Users\\\\Koi\\\\OneDrive - Nanyang Technological University\\\\Desktop\\\\2273 Learning Portfolio\\\\learning-portfolio-FluffyUnicornl\\\\files, folders and os\\\\os-collaboration-exercise-data'"
      ]
     },
     "execution_count": 51,
     "metadata": {},
     "output_type": "execute_result"
    }
   ],
   "source": [
    "os.getcwd()"
   ]
  },
  {
   "cell_type": "code",
   "execution_count": 52,
   "id": "0ee034b4",
   "metadata": {},
   "outputs": [],
   "source": [
    "for file in glob.glob('*cairo.*'):\n",
    "    shutil.copy(file, 'Cairo')"
   ]
  },
  {
   "cell_type": "code",
   "execution_count": 54,
   "id": "fcca1d38",
   "metadata": {
    "code_folding": []
   },
   "outputs": [],
   "source": [
    "country_list = ['Dhaka', 'Jakarta', 'Karachi', 'Manila',\n",
    "                'Melbourne', 'Osaka', 'Shanghai', 'Singapore', 'Tokyo']\n",
    "for country in country_list:\n",
    "    country_name = glob.glob(f'*{country}.*')\n",
    "    for file in country_name:\n",
    "        shutil.copy(file,country)"
   ]
  }
 ],
 "metadata": {
  "kernelspec": {
   "display_name": "Python 3 (ipykernel)",
   "language": "python",
   "name": "python3"
  },
  "language_info": {
   "codemirror_mode": {
    "name": "ipython",
    "version": 3
   },
   "file_extension": ".py",
   "mimetype": "text/x-python",
   "name": "python",
   "nbconvert_exporter": "python",
   "pygments_lexer": "ipython3",
   "version": "3.10.8"
  },
  "toc": {
   "base_numbering": 1,
   "nav_menu": {},
   "number_sections": true,
   "sideBar": true,
   "skip_h1_title": false,
   "title_cell": "Table of Contents",
   "title_sidebar": "Contents",
   "toc_cell": false,
   "toc_position": {},
   "toc_section_display": true,
   "toc_window_display": false
  },
  "varInspector": {
   "cols": {
    "lenName": 16,
    "lenType": 16,
    "lenVar": 40
   },
   "kernels_config": {
    "python": {
     "delete_cmd_postfix": "",
     "delete_cmd_prefix": "del ",
     "library": "var_list.py",
     "varRefreshCmd": "print(var_dic_list())"
    },
    "r": {
     "delete_cmd_postfix": ") ",
     "delete_cmd_prefix": "rm(",
     "library": "var_list.r",
     "varRefreshCmd": "cat(var_dic_list()) "
    }
   },
   "types_to_exclude": [
    "module",
    "function",
    "builtin_function_or_method",
    "instance",
    "_Feature"
   ],
   "window_display": false
  },
  "vscode": {
   "interpreter": {
    "hash": "31f2aee4e71d21fbe5cf8b01ff0e069b9275f58929596ceb00d14d90e3e16cd6"
   }
  }
 },
 "nbformat": 4,
 "nbformat_minor": 5
}
