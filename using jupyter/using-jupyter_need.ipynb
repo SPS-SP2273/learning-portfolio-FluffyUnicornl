{
 "cells": [
  {
   "cell_type": "code",
   "execution_count": 2,
   "id": "b4fd03b3",
   "metadata": {
    "scrolled": true
   },
   "outputs": [
    {
     "name": "stdout",
     "output_type": "stream",
     "text": [
      "Hello World!\n"
     ]
    }
   ],
   "source": [
    "print('Hello World!')"
   ]
  },
  {
   "cell_type": "markdown",
   "id": "eaa80ef3",
   "metadata": {},
   "source": [
    "The ships *hung in the sky* in much the same way that **bricks don't.**<sup>1</sup><sub>QUOTE</sub>"
   ]
  },
  {
   "cell_type": "markdown",
   "id": "913e9027",
   "metadata": {},
   "source": [
    "# The largest heading\n",
    "\n",
    "## The second-largest heading\n",
    "\n",
    "### The third-largest heading\n",
    "\n",
    "###### The smallest heading"
   ]
  },
  {
   "cell_type": "code",
   "execution_count": 7,
   "id": "b000d805",
   "metadata": {},
   "outputs": [
    {
     "data": {
      "text/plain": [
       "\"print('Hello World!')\""
      ]
     },
     "execution_count": 7,
     "metadata": {},
     "output_type": "execute_result"
    }
   ],
   "source": [
    "'''print('Hello World!')'''"
   ]
  },
  {
   "cell_type": "markdown",
   "id": "137e5e45",
   "metadata": {},
   "source": [
    "[Github](https://github.com/)"
   ]
  },
  {
   "cell_type": "markdown",
   "id": "0fe09f1e",
   "metadata": {},
   "source": [
    "![](https://github.githubassets.com/images/modules/logos_page/GitHub-Mark.png)"
   ]
  },
  {
   "cell_type": "markdown",
   "id": "54b09544",
   "metadata": {},
   "source": [
    "| Day | Month | Year |   |   |\n",
    "|-----|-------|------|---|---|\n",
    "| 19  | 03    | 1999 |   |   |\n",
    "| 31  | 10    | 2000 |   |   |\n",
    "|     |       |      |   |   |"
   ]
  },
  {
   "cell_type": "markdown",
   "id": "a8de6fc8",
   "metadata": {},
   "source": [
    "5. Master Yoda\n",
    "1. Luke Skywalker\n",
    "1. Anakin Skywalker"
   ]
  },
  {
   "cell_type": "markdown",
   "id": "cc997505",
   "metadata": {},
   "source": [
    "1. Master Yoda\n",
    "    1. Was a jedi\n",
    "    1. Was a bit green\n",
    "1. Luke skywalker\n",
    "    1. was a jedi\n",
    "    1. Is anakin's son\n",
    "1. Anakin Skywalker\n",
    "    1. Was a jedi then became a baddie\n",
    "    1. Is famous for saying 'Luke, I am your father'"
   ]
  },
  {
   "cell_type": "markdown",
   "id": "c5be6e4b",
   "metadata": {},
   "source": [
    "$$\n",
    "x = \\dfrac{-b \\pm \\sqrt{b^2-4ac}}{2a}\n",
    "$$"
   ]
  },
  {
   "cell_type": "markdown",
   "id": "1bb8ec1a",
   "metadata": {},
   "source": [
    "# Exercise 1\n",
    "\n",
    "### Quadratic Equations\n",
    "\n",
    "![](https://upload.wikimedia.org/wikipedia/commons/thumb/f/f8/Polynomialdeg2.svg/300px-Polynomialdeg2.svg.png)\n",
    "(Image from the [Wikipedia page on Quadratic Equations](https://en.wikipedia.org/wiki/Quadratic_equation))\n",
    "\n",
    "### Introduction\n",
    "The general form of a quadratic Equation is:\n",
    "\n",
    "$$ ax^2 + bx + c = 0 $$\n",
    "\n",
    "### Solutions \n",
    "Provided $ a \\ne 0 $,we can use an elementary algebraic method called [completeing the square](https://en.wikipedia.org/wiki/Completing_the_square) to show that a quadratic equation has the following solution:\n",
    "\n",
    "$$ x = \\dfrac {-b \\pm \\sqrt{b^2-4ac}}{2a} $$\n",
    "\n",
    "### Discriminant\n",
    "\n",
    "The quantity $\\delta = b^2 - 4ac = 0$ is called the **discriminant** of the equation and decides the nature of its solutions. The table below sows the various possibilities. \n",
    "\n",
    "| Discriminat               | Roots                                |\n",
    "|:----------------:|:--------------------------|\n",
    "| $$\\delta = b^2 - 4ac = 0$$   | A single solution of $ -b / (2a) $       |\n",
    "| $$\\delta = b^2 - 4ac \\gt 0$$ | Two distinct solutions               |\n",
    "| $$\\delta = b^2 - 4ac \\lt 0$$ | No real solutions; both are complex. |"
   ]
  },
  {
   "cell_type": "markdown",
   "id": "7238cc26",
   "metadata": {},
   "source": [
    "# Exercise 2\n",
    "1. What is a repository?\n",
    "    1. A location to hold our Learning Portfolio/Code\n",
    "1. Git keep tracks of ***changes*** in the files in our repository.\n",
    "1. What is a commit?\n",
    "    1. To specify what changes we have made that we want tracked.\n",
    "1. What is a push?\n",
    "    1. To push the commits into the cloud server for others viewing\n",
    "1. What is the difference between GitHub and GitHub Desktop?\n",
    "    1. GitHub is a cloud server where others with access can view changes made, while GitHub desktop is on the local machine, where changes made are done only \"locally\"\n",
    "1. Is there an ‘opposite’ to a push?  \n",
    "    1. Fetch Origin"
   ]
  }
 ],
 "metadata": {
  "kernelspec": {
   "display_name": "Python 3 (ipykernel)",
   "language": "python",
   "name": "python3"
  },
  "language_info": {
   "codemirror_mode": {
    "name": "ipython",
    "version": 3
   },
   "file_extension": ".py",
   "mimetype": "text/x-python",
   "name": "python",
   "nbconvert_exporter": "python",
   "pygments_lexer": "ipython3",
   "version": "3.10.8"
  }
 },
 "nbformat": 4,
 "nbformat_minor": 5
}
