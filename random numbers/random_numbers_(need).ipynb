{
 "cells": [
  {
   "cell_type": "markdown",
   "id": "123456",
   "metadata": {},
   "source": [
    "<div style=\"text-align:left;font-size:2em\"><span style=\"font-weight:bolder;font-size:1.25em\">SP2273 | Learning Portfolio</span><br><br><span style=\"font-weight:bold;color:darkred\">Random Numbers (Need)</span></div>"
   ]
  },
  {
   "cell_type": "markdown",
   "id": "292e2771",
   "metadata": {},
   "source": [
    "## 1 Random Numbers"
   ]
  },
  {
   "cell_type": "markdown",
   "id": "fb3745f9",
   "metadata": {},
   "source": [
    "### 1.1 Real and Pseudo Random Numbers"
   ]
  },
  {
   "cell_type": "code",
   "execution_count": null,
   "id": "6aa7dc28",
   "metadata": {},
   "outputs": [],
   "source": [
    "\n",
    "# Your code here\n"
   ]
  },
  {
   "cell_type": "markdown",
   "id": "681e5570",
   "metadata": {},
   "source": [
    "### 1.2 NumPy’s PRNG"
   ]
  },
  {
   "cell_type": "code",
   "execution_count": null,
   "id": "97b29e10",
   "metadata": {},
   "outputs": [],
   "source": [
    "\n",
    "# Your code here\n"
   ]
  },
  {
   "cell_type": "markdown",
   "id": "cc1e6e92",
   "metadata": {},
   "source": [
    "### 1.3 A simple graphical test"
   ]
  },
  {
   "cell_type": "code",
   "execution_count": null,
   "id": "1657c6e2",
   "metadata": {},
   "outputs": [],
   "source": [
    "\n",
    "# Your code here\n"
   ]
  },
  {
   "cell_type": "markdown",
   "id": "2cf0c8d2",
   "metadata": {},
   "source": [
    "### 1.4 Uniformly beyond \\([0,1)\\)"
   ]
  },
  {
   "cell_type": "code",
   "execution_count": null,
   "id": "7dec4fbf",
   "metadata": {},
   "outputs": [],
   "source": [
    "\n",
    "# Your code here\n"
   ]
  },
  {
   "cell_type": "markdown",
   "id": "0b745e9f",
   "metadata": {},
   "source": [
    "### 1.5 ‘seeding’ a PRNG"
   ]
  },
  {
   "cell_type": "code",
   "execution_count": null,
   "id": "3d566588",
   "metadata": {},
   "outputs": [],
   "source": [
    "\n",
    "# Your code here\n"
   ]
  },
  {
   "cell_type": "markdown",
   "id": "db2cccab",
   "metadata": {},
   "source": [
    "## 2 Simulating a Magic-8 Ball"
   ]
  },
  {
   "cell_type": "markdown",
   "id": "296448ec",
   "metadata": {},
   "source": [
    "## 3 Flipping Coins"
   ]
  },
  {
   "cell_type": "markdown",
   "id": "45ea192e",
   "metadata": {},
   "source": [
    "### 3.1 A fair coin"
   ]
  },
  {
   "cell_type": "code",
   "execution_count": null,
   "id": "ae7ffa91",
   "metadata": {},
   "outputs": [],
   "source": [
    "\n",
    "# Your code here\n"
   ]
  },
  {
   "cell_type": "markdown",
   "id": "e6168043",
   "metadata": {},
   "source": [
    "### 3.2 A biased coin"
   ]
  },
  {
   "cell_type": "code",
   "execution_count": null,
   "id": "fde0df0a",
   "metadata": {},
   "outputs": [],
   "source": [
    "\n",
    "# Your code here\n"
   ]
  },
  {
   "cell_type": "markdown",
   "id": "ea7bf3f3",
   "metadata": {},
   "source": [
    "### 3.3 A flipping experiment"
   ]
  },
  {
   "cell_type": "code",
   "execution_count": null,
   "id": "3c6b2c2f",
   "metadata": {},
   "outputs": [],
   "source": [
    "\n",
    "# Your code here\n"
   ]
  },
  {
   "cell_type": "markdown",
   "id": "eb454703",
   "metadata": {},
   "source": [
    "## Exercise 1 :  12C, 13C"
   ]
  },
  {
   "cell_type": "code",
   "execution_count": null,
   "id": "59c96197",
   "metadata": {},
   "outputs": [],
   "source": [
    "\n",
    "\n",
    "\n",
    "# Your solution here\n",
    "\n",
    "\n"
   ]
  }
 ],
 "metadata": {
  "kernelspec": {
   "display_name": "Python 3 (ipykernel)",
   "language": "python",
   "name": "python3"
  },
  "language_info": {
   "codemirror_mode": {
    "name": "ipython",
    "version": 3
   },
   "file_extension": ".py",
   "mimetype": "text/x-python",
   "name": "python",
   "nbconvert_exporter": "python",
   "pygments_lexer": "ipython3",
   "version": "3.10.8"
  },
  "toc": {
   "base_numbering": 1,
   "nav_menu": {},
   "number_sections": true,
   "sideBar": true,
   "skip_h1_title": false,
   "title_cell": "Table of Contents",
   "title_sidebar": "Contents",
   "toc_cell": false,
   "toc_position": {},
   "toc_section_display": true,
   "toc_window_display": false
  },
  "varInspector": {
   "cols": {
    "lenName": 16,
    "lenType": 16,
    "lenVar": 40
   },
   "kernels_config": {
    "python": {
     "delete_cmd_postfix": "",
     "delete_cmd_prefix": "del ",
     "library": "var_list.py",
     "varRefreshCmd": "print(var_dic_list())"
    },
    "r": {
     "delete_cmd_postfix": ") ",
     "delete_cmd_prefix": "rm(",
     "library": "var_list.r",
     "varRefreshCmd": "cat(var_dic_list()) "
    }
   },
   "types_to_exclude": [
    "module",
    "function",
    "builtin_function_or_method",
    "instance",
    "_Feature"
   ],
   "window_display": false
  },
  "vscode": {
   "interpreter": {
    "hash": "31f2aee4e71d21fbe5cf8b01ff0e069b9275f58929596ceb00d14d90e3e16cd6"
   }
  }
 },
 "nbformat": 4,
 "nbformat_minor": 5
}
